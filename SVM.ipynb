{
 "cells": [
  {
   "cell_type": "code",
   "execution_count": 5,
   "metadata": {},
   "outputs": [],
   "source": [
    "from sklearn.svm import SVC\n",
    "import pandas as pd\n",
    "from sklearn.model_selection import train_test_split\n",
    "from sklearn.metrics import confusion_matrix, accuracy_score"
   ]
  },
  {
   "cell_type": "code",
   "execution_count": 6,
   "metadata": {},
   "outputs": [
    {
     "data": {
      "text/html": [
       "<div>\n",
       "<style scoped>\n",
       "    .dataframe tbody tr th:only-of-type {\n",
       "        vertical-align: middle;\n",
       "    }\n",
       "\n",
       "    .dataframe tbody tr th {\n",
       "        vertical-align: top;\n",
       "    }\n",
       "\n",
       "    .dataframe thead th {\n",
       "        text-align: right;\n",
       "    }\n",
       "</style>\n",
       "<table border=\"1\" class=\"dataframe\">\n",
       "  <thead>\n",
       "    <tr style=\"text-align: right;\">\n",
       "      <th></th>\n",
       "      <th>total_transcations</th>\n",
       "      <th>total_distance</th>\n",
       "      <th>online_duration_in_seconds</th>\n",
       "      <th>orders_received</th>\n",
       "      <th>orders_accepted</th>\n",
       "      <th>earnings</th>\n",
       "      <th>orders_cancelled</th>\n",
       "      <th>label</th>\n",
       "    </tr>\n",
       "  </thead>\n",
       "  <tbody>\n",
       "    <tr>\n",
       "      <th>0</th>\n",
       "      <td>2</td>\n",
       "      <td>34.05</td>\n",
       "      <td>20717</td>\n",
       "      <td>62</td>\n",
       "      <td>5</td>\n",
       "      <td>135700</td>\n",
       "      <td>1</td>\n",
       "      <td>0</td>\n",
       "    </tr>\n",
       "    <tr>\n",
       "      <th>1</th>\n",
       "      <td>2</td>\n",
       "      <td>39.62</td>\n",
       "      <td>41693</td>\n",
       "      <td>45</td>\n",
       "      <td>2</td>\n",
       "      <td>146050</td>\n",
       "      <td>0</td>\n",
       "      <td>0</td>\n",
       "    </tr>\n",
       "    <tr>\n",
       "      <th>2</th>\n",
       "      <td>2</td>\n",
       "      <td>30.94</td>\n",
       "      <td>20216</td>\n",
       "      <td>29</td>\n",
       "      <td>2</td>\n",
       "      <td>125350</td>\n",
       "      <td>0</td>\n",
       "      <td>0</td>\n",
       "    </tr>\n",
       "    <tr>\n",
       "      <th>3</th>\n",
       "      <td>2</td>\n",
       "      <td>17.71</td>\n",
       "      <td>24275</td>\n",
       "      <td>45</td>\n",
       "      <td>12</td>\n",
       "      <td>63250</td>\n",
       "      <td>7</td>\n",
       "      <td>0</td>\n",
       "    </tr>\n",
       "    <tr>\n",
       "      <th>4</th>\n",
       "      <td>2</td>\n",
       "      <td>33.73</td>\n",
       "      <td>27638</td>\n",
       "      <td>35</td>\n",
       "      <td>8</td>\n",
       "      <td>170200</td>\n",
       "      <td>1</td>\n",
       "      <td>0</td>\n",
       "    </tr>\n",
       "  </tbody>\n",
       "</table>\n",
       "</div>"
      ],
      "text/plain": [
       "   total_transcations  total_distance  online_duration_in_seconds  \\\n",
       "0                   2           34.05                       20717   \n",
       "1                   2           39.62                       41693   \n",
       "2                   2           30.94                       20216   \n",
       "3                   2           17.71                       24275   \n",
       "4                   2           33.73                       27638   \n",
       "\n",
       "   orders_received  orders_accepted  earnings  orders_cancelled  label  \n",
       "0               62                5    135700                 1      0  \n",
       "1               45                2    146050                 0      0  \n",
       "2               29                2    125350                 0      0  \n",
       "3               45               12     63250                 7      0  \n",
       "4               35                8    170200                 1      0  "
      ]
     },
     "execution_count": 6,
     "metadata": {},
     "output_type": "execute_result"
    }
   ],
   "source": [
    "data = pd.read_csv('E:/KULIAH/MAGISTER/ASDOS_DATMIN/datminC_week1.csv', sep=',')\n",
    "data.head()"
   ]
  },
  {
   "cell_type": "code",
   "execution_count": 7,
   "metadata": {},
   "outputs": [],
   "source": [
    "x = data.iloc[:, data.columns != 'label']\n",
    "y = data.iloc[:, data.columns == 'label']"
   ]
  },
  {
   "cell_type": "code",
   "execution_count": 8,
   "metadata": {},
   "outputs": [],
   "source": [
    "x_train, x_test, y_train, y_test = train_test_split(x, y, test_size=0.25, random_state=0)"
   ]
  },
  {
   "cell_type": "code",
   "execution_count": 9,
   "metadata": {},
   "outputs": [],
   "source": [
    "# LINIER\n",
    "svclassifier_1 = SVC(kernel='linear')\n",
    "svclassifier_1.fit(x_train, y_train.values.ravel())\n",
    "y_pred_1 = svclassifier_1.predict(x_test)"
   ]
  },
  {
   "cell_type": "code",
   "execution_count": 10,
   "metadata": {},
   "outputs": [
    {
     "name": "stdout",
     "output_type": "stream",
     "text": [
      "[[10  0]\n",
      " [ 0  3]]\n"
     ]
    }
   ],
   "source": [
    "print(confusion_matrix(y_test,y_pred_1))"
   ]
  },
  {
   "cell_type": "code",
   "execution_count": 7,
   "metadata": {},
   "outputs": [],
   "source": [
    "# POLINOM\n",
    "svclassifier_2 = SVC(kernel='poly')\n",
    "svclassifier_2.fit(x_train, y_train.values.ravel())\n",
    "y_pred_2 = svclassifier_2.predict(x_test)"
   ]
  },
  {
   "cell_type": "code",
   "execution_count": 8,
   "metadata": {},
   "outputs": [
    {
     "name": "stdout",
     "output_type": "stream",
     "text": [
      "[[10  0]\n",
      " [ 3  0]]\n"
     ]
    }
   ],
   "source": [
    "print(confusion_matrix(y_test, y_pred_2))"
   ]
  },
  {
   "cell_type": "code",
   "execution_count": 9,
   "metadata": {},
   "outputs": [],
   "source": [
    "# RBF\n",
    "svclassifier_3 = SVC(kernel='rbf')\n",
    "svclassifier_3.fit(x_train, y_train.values.ravel())\n",
    "y_pred_3 = svclassifier_3.predict(x_test)"
   ]
  },
  {
   "cell_type": "code",
   "execution_count": 10,
   "metadata": {},
   "outputs": [
    {
     "name": "stdout",
     "output_type": "stream",
     "text": [
      "[[10  0]\n",
      " [ 3  0]]\n"
     ]
    }
   ],
   "source": [
    "print(confusion_matrix(y_test, y_pred_3))"
   ]
  },
  {
   "cell_type": "code",
   "execution_count": 11,
   "metadata": {},
   "outputs": [],
   "source": [
    "# SIGMOID\n",
    "svclassifier_4 = SVC(kernel='sigmoid')\n",
    "svclassifier_4.fit(x_train, y_train.values.ravel())\n",
    "y_pred_4 = svclassifier_4.predict(x_test)"
   ]
  },
  {
   "cell_type": "code",
   "execution_count": 12,
   "metadata": {},
   "outputs": [
    {
     "name": "stdout",
     "output_type": "stream",
     "text": [
      "[[10  0]\n",
      " [ 3  0]]\n"
     ]
    }
   ],
   "source": [
    "print(confusion_matrix(y_test, y_pred_4))"
   ]
  },
  {
   "cell_type": "code",
   "execution_count": 13,
   "metadata": {},
   "outputs": [],
   "source": [
    "acc_svm_1 = round(accuracy_score(y_pred_1, y_test) * 100, 2)\n",
    "acc_svm_2 = round(accuracy_score(y_pred_2, y_test) * 100, 2)\n",
    "acc_svm_3 = round(accuracy_score(y_pred_3, y_test) * 100, 2)\n",
    "acc_svm_4 = round(accuracy_score(y_pred_4, y_test) * 100, 2)\n"
   ]
  },
  {
   "cell_type": "code",
   "execution_count": 14,
   "metadata": {
    "scrolled": true
   },
   "outputs": [
    {
     "data": {
      "text/html": [
       "<div>\n",
       "<style scoped>\n",
       "    .dataframe tbody tr th:only-of-type {\n",
       "        vertical-align: middle;\n",
       "    }\n",
       "\n",
       "    .dataframe tbody tr th {\n",
       "        vertical-align: top;\n",
       "    }\n",
       "\n",
       "    .dataframe thead th {\n",
       "        text-align: right;\n",
       "    }\n",
       "</style>\n",
       "<table border=\"1\" class=\"dataframe\">\n",
       "  <thead>\n",
       "    <tr style=\"text-align: right;\">\n",
       "      <th></th>\n",
       "      <th>Model SVM</th>\n",
       "      <th>Score</th>\n",
       "    </tr>\n",
       "  </thead>\n",
       "  <tbody>\n",
       "    <tr>\n",
       "      <th>0</th>\n",
       "      <td>Linear</td>\n",
       "      <td>100.00</td>\n",
       "    </tr>\n",
       "    <tr>\n",
       "      <th>1</th>\n",
       "      <td>Poly</td>\n",
       "      <td>76.92</td>\n",
       "    </tr>\n",
       "    <tr>\n",
       "      <th>2</th>\n",
       "      <td>rbf</td>\n",
       "      <td>76.92</td>\n",
       "    </tr>\n",
       "    <tr>\n",
       "      <th>3</th>\n",
       "      <td>Sigmoid</td>\n",
       "      <td>76.92</td>\n",
       "    </tr>\n",
       "  </tbody>\n",
       "</table>\n",
       "</div>"
      ],
      "text/plain": [
       "  Model SVM   Score\n",
       "0    Linear  100.00\n",
       "1      Poly   76.92\n",
       "2       rbf   76.92\n",
       "3   Sigmoid   76.92"
      ]
     },
     "execution_count": 14,
     "metadata": {},
     "output_type": "execute_result"
    }
   ],
   "source": [
    "models = pd.DataFrame({\n",
    "    'Model SVM': ['Linear', 'Poly', 'rbf', 'Sigmoid'],\n",
    "    'Score': [acc_svm_1, acc_svm_2, acc_svm_3, acc_svm_4]})\n",
    "models.sort_values(by='Score', ascending=False)"
   ]
  }
 ],
 "metadata": {
  "kernelspec": {
   "display_name": "Python 3 (ipykernel)",
   "language": "python",
   "name": "python3"
  },
  "language_info": {
   "codemirror_mode": {
    "name": "ipython",
    "version": 3
   },
   "file_extension": ".py",
   "mimetype": "text/x-python",
   "name": "python",
   "nbconvert_exporter": "python",
   "pygments_lexer": "ipython3",
   "version": "3.9.7"
  }
 },
 "nbformat": 4,
 "nbformat_minor": 4
}
